{
 "cells": [
  {
   "cell_type": "code",
   "execution_count": 1,
   "id": "054f1d86",
   "metadata": {},
   "outputs": [],
   "source": [
    "from dotenv import load_dotenv\n",
    "import os"
   ]
  },
  {
   "cell_type": "code",
   "execution_count": 2,
   "id": "b0f48573",
   "metadata": {},
   "outputs": [
    {
     "data": {
      "text/plain": [
       "True"
      ]
     },
     "execution_count": 2,
     "metadata": {},
     "output_type": "execute_result"
    }
   ],
   "source": [
    "load_dotenv()"
   ]
  },
  {
   "cell_type": "code",
   "execution_count": 3,
   "id": "77d79d55",
   "metadata": {},
   "outputs": [],
   "source": [
    "os.environ['OPENAI_API_KEY'] = os.getenv('OPENAI_API_KEY')"
   ]
  },
  {
   "cell_type": "markdown",
   "id": "ac4e28d1",
   "metadata": {},
   "source": [
    "## System architecture"
   ]
  },
  {
   "cell_type": "markdown",
   "id": "634db87c",
   "metadata": {},
   "source": [
    "### Supervisor agent architecture"
   ]
  },
  {
   "cell_type": "markdown",
   "id": "5fd3bf45",
   "metadata": {},
   "source": [
    "1. A supervisor node (Acts as router)\n",
    "2. Filter node (Filters the trades based on the filter criteria)\n",
    "3. Matching node (Match the given records)\n",
    "4. Affirmation node (Affirm the given records)"
   ]
  },
  {
   "cell_type": "code",
   "execution_count": 4,
   "id": "bf05ca73",
   "metadata": {},
   "outputs": [],
   "source": [
    "from langgraph.types import Command"
   ]
  },
  {
   "cell_type": "code",
   "execution_count": 5,
   "id": "f866afcd",
   "metadata": {},
   "outputs": [],
   "source": [
    "from langgraph.graph import MessagesState, StateGraph, START, END"
   ]
  },
  {
   "cell_type": "code",
   "execution_count": 6,
   "id": "33e17f05",
   "metadata": {},
   "outputs": [],
   "source": [
    "from typing import Literal"
   ]
  },
  {
   "cell_type": "code",
   "execution_count": 7,
   "id": "5f8867fb",
   "metadata": {},
   "outputs": [],
   "source": [
    "from agents.supervisor_agent import supervisor_agent\n",
    "from agents.filter_agent import filter_agent\n",
    "from agents.matcher_agent import matcher_agent\n",
    "from agents.affirmer_agent import affirmer_agent"
   ]
  },
  {
   "cell_type": "code",
   "execution_count": 8,
   "id": "7b68a7f3",
   "metadata": {},
   "outputs": [],
   "source": [
    "workflow = StateGraph(MessagesState)"
   ]
  },
  {
   "cell_type": "code",
   "execution_count": 9,
   "id": "269354a5",
   "metadata": {},
   "outputs": [
    {
     "data": {
      "text/plain": [
       "<langgraph.graph.state.StateGraph at 0x105d2e0c0>"
      ]
     },
     "execution_count": 9,
     "metadata": {},
     "output_type": "execute_result"
    }
   ],
   "source": [
    "workflow.add_node(supervisor_agent, destinations=['filter_agent', 'matcher_agent', 'affirmer_agent', END])"
   ]
  },
  {
   "cell_type": "code",
   "execution_count": 10,
   "id": "c4a0453c",
   "metadata": {},
   "outputs": [
    {
     "data": {
      "text/plain": [
       "<langgraph.graph.state.StateGraph at 0x105d2e0c0>"
      ]
     },
     "execution_count": 10,
     "metadata": {},
     "output_type": "execute_result"
    }
   ],
   "source": [
    "workflow.add_node('filter_agent', filter_agent)\n",
    "workflow.add_node('matcher_agent', matcher_agent)\n",
    "workflow.add_node('affirmer_agent', affirmer_agent)"
   ]
  },
  {
   "cell_type": "code",
   "execution_count": 11,
   "id": "6f3ca956",
   "metadata": {},
   "outputs": [
    {
     "data": {
      "text/plain": [
       "<langgraph.graph.state.StateGraph at 0x105d2e0c0>"
      ]
     },
     "execution_count": 11,
     "metadata": {},
     "output_type": "execute_result"
    }
   ],
   "source": [
    "workflow.add_edge(START, 'supervisor_agent')"
   ]
  },
  {
   "cell_type": "code",
   "execution_count": 12,
   "id": "f20194ad",
   "metadata": {},
   "outputs": [
    {
     "data": {
      "text/plain": [
       "<langgraph.graph.state.StateGraph at 0x105d2e0c0>"
      ]
     },
     "execution_count": 12,
     "metadata": {},
     "output_type": "execute_result"
    }
   ],
   "source": [
    "workflow.add_edge('filter_agent', 'supervisor_agent')\n",
    "workflow.add_edge('matcher_agent', 'supervisor_agent')\n",
    "workflow.add_edge('affirmer_agent', 'supervisor_agent')"
   ]
  },
  {
   "cell_type": "code",
   "execution_count": 13,
   "id": "c3ee8b78",
   "metadata": {},
   "outputs": [
    {
     "data": {
      "text/plain": [
       "<langgraph.graph.state.StateGraph at 0x105d2e0c0>"
      ]
     },
     "execution_count": 13,
     "metadata": {},
     "output_type": "execute_result"
    }
   ],
   "source": [
    "workflow.add_edge('supervisor_agent', END)"
   ]
  },
  {
   "cell_type": "code",
   "execution_count": 14,
   "id": "bc238fb8",
   "metadata": {},
   "outputs": [],
   "source": [
    "app = workflow.compile()"
   ]
  },
  {
   "cell_type": "code",
   "execution_count": 15,
   "id": "676d5940",
   "metadata": {},
   "outputs": [],
   "source": [
    "from IPython.display import display, Image"
   ]
  },
  {
   "cell_type": "code",
   "execution_count": 16,
   "id": "a053a043",
   "metadata": {},
   "outputs": [
    {
     "data": {
      "image/png": "[encoded data removed]",
      "text/plain": [
       "<IPython.core.display.Image object>"
      ]
     },
     "metadata": {},
     "output_type": "display_data"
    }
   ],
   "source": [
    "display(Image(app.get_graph().draw_mermaid_png()))"
   ]
  },
  {
   "cell_type": "code",
   "execution_count": 24,
   "id": "8c21ac2e",
   "metadata": {},
   "outputs": [],
   "source": [
    "from langchain_core.messages import BaseMessage"
   ]
  },
  {
   "cell_type": "code",
   "execution_count": 28,
   "id": "c8c7cd15",
   "metadata": {},
   "outputs": [],
   "source": [
    "last_message = \"\""
   ]
  },
  {
   "cell_type": "code",
   "execution_count": 29,
   "id": "23b479d0",
   "metadata": {},
   "outputs": [
    {
     "name": "stdout",
     "output_type": "stream",
     "text": [
      "##agent_name supervisor_agent\n",
      "##messages [HumanMessage(content='Give me all the matched trades for last week.', additional_kwargs={}, response_metadata={}, id='68dd4d87-da8f-4530-9857-1b5f6a5bf9f2'), AIMessage(content='', additional_kwargs={'tool_calls': [{'id': 'call_GpIeIQCiLJybbdiSuqX9kyH4', 'function': {'arguments': '{}', 'name': 'transfer_to_filter_agent'}, 'type': 'function'}], 'refusal': None}, response_metadata={'token_usage': {'completion_tokens': 12, 'prompt_tokens': 808, 'total_tokens': 820, 'completion_tokens_details': {'accepted_prediction_tokens': 0, 'audio_tokens': 0, 'reasoning_tokens': 0, 'rejected_prediction_tokens': 0}, 'prompt_tokens_details': {'audio_tokens': 0, 'cached_tokens': 0}}, 'model_name': 'gpt-4.1-2025-04-14', 'system_fingerprint': None, 'id': 'chatcmpl-BtBT4TiSh72iKw6gdC5ZrVsIjapMW', 'service_tier': 'default', 'finish_reason': 'tool_calls', 'logprobs': None}, name='supervisor_agent', id='run--967ec667-6e99-403e-9fc2-97978b695c17-0', tool_calls=[{'name': 'transfer_to_filter_agent', 'args': {}, 'id': 'call_GpIeIQCiLJybbdiSuqX9kyH4', 'type': 'tool_call'}], usage_metadata={'input_tokens': 808, 'output_tokens': 12, 'total_tokens': 820, 'input_token_details': {'audio': 0, 'cache_read': 0}, 'output_token_details': {'audio': 0, 'reasoning': 0}}), {'role': 'tool', 'content': 'Successfully transferred to filter_agent', 'tool_call_id': 'call_GpIeIQCiLJybbdiSuqX9kyH4', 'name': 'transfer_to_filter_agent'}]\n",
      "##agent_name filter_agent\n",
      "##messages [HumanMessage(content='Give me all the matched trades for last week.', additional_kwargs={}, response_metadata={}, id='68dd4d87-da8f-4530-9857-1b5f6a5bf9f2'), AIMessage(content='', additional_kwargs={'tool_calls': [{'id': 'call_GpIeIQCiLJybbdiSuqX9kyH4', 'function': {'arguments': '{}', 'name': 'transfer_to_filter_agent'}, 'type': 'function'}], 'refusal': None}, response_metadata={'token_usage': {'completion_tokens': 12, 'prompt_tokens': 808, 'total_tokens': 820, 'completion_tokens_details': {'accepted_prediction_tokens': 0, 'audio_tokens': 0, 'reasoning_tokens': 0, 'rejected_prediction_tokens': 0}, 'prompt_tokens_details': {'audio_tokens': 0, 'cached_tokens': 0}}, 'model_name': 'gpt-4.1-2025-04-14', 'system_fingerprint': None, 'id': 'chatcmpl-BtBT4TiSh72iKw6gdC5ZrVsIjapMW', 'service_tier': 'default', 'finish_reason': 'tool_calls', 'logprobs': None}, name='supervisor_agent', id='run--967ec667-6e99-403e-9fc2-97978b695c17-0', tool_calls=[{'name': 'transfer_to_filter_agent', 'args': {}, 'id': 'call_GpIeIQCiLJybbdiSuqX9kyH4', 'type': 'tool_call'}], usage_metadata={'input_tokens': 808, 'output_tokens': 12, 'total_tokens': 820, 'input_token_details': {'audio': 0, 'cache_read': 0}, 'output_token_details': {'audio': 0, 'reasoning': 0}}), ToolMessage(content='Successfully transferred to filter_agent', name='transfer_to_filter_agent', id='8d821a3f-694e-47e5-8354-6a1dd74dce6c', tool_call_id='call_GpIeIQCiLJybbdiSuqX9kyH4'), AIMessage(content='', additional_kwargs={'tool_calls': [{'id': 'call_hviLpNpHe7bkjAJxARXkpbJ8', 'function': {'arguments': '{\"start_date\":\"2025-07-07\",\"end_date\":\"2025-07-13\",\"matching_status\":\"Matched\"}', 'name': 'filter_trades'}, 'type': 'function'}], 'refusal': None}, response_metadata={'token_usage': {'completion_tokens': 36, 'prompt_tokens': 908, 'total_tokens': 944, 'completion_tokens_details': {'accepted_prediction_tokens': 0, 'audio_tokens': 0, 'reasoning_tokens': 0, 'rejected_prediction_tokens': 0}, 'prompt_tokens_details': {'audio_tokens': 0, 'cached_tokens': 0}}, 'model_name': 'gpt-4.1-2025-04-14', 'system_fingerprint': None, 'id': 'chatcmpl-BtBTArlNSmokpXrluqm1LbrN5T6Pb', 'service_tier': 'default', 'finish_reason': 'tool_calls', 'logprobs': None}, name='filter_agent', id='run--d8f5eeed-931a-4b69-b146-47a8694506b5-0', tool_calls=[{'name': 'filter_trades', 'args': {'start_date': '2025-07-07', 'end_date': '2025-07-13', 'matching_status': 'Matched'}, 'id': 'call_hviLpNpHe7bkjAJxARXkpbJ8', 'type': 'tool_call'}], usage_metadata={'input_tokens': 908, 'output_tokens': 36, 'total_tokens': 944, 'input_token_details': {'audio': 0, 'cache_read': 0}, 'output_token_details': {'audio': 0, 'reasoning': 0}}), ToolMessage(content=\"result=[TradesSchema(id='T026', party='VoyagerTrust', counter_party='CometCapital', trade_date='2025-07-10', matching_status='Matched', instrument='Equity', notional_amount=260000.0, currency='USD')]\", name='filter_trades', id='d4272ef9-842b-4e5d-ba67-5e8d2d237db5', tool_call_id='call_hviLpNpHe7bkjAJxARXkpbJ8'), AIMessage(content='{\"result\":[{\"id\":\"T026\",\"party\":\"VoyagerTrust\",\"counter_party\":\"CometCapital\",\"trade_date\":\"2025-07-10\",\"matching_status\":\"Matched\",\"instrument\":\"Equity\",\"notional_amount\":260000.0,\"currency\":\"USD\"}]}', additional_kwargs={'refusal': None}, response_metadata={'token_usage': {'completion_tokens': 57, 'prompt_tokens': 1011, 'total_tokens': 1068, 'completion_tokens_details': {'accepted_prediction_tokens': 0, 'audio_tokens': 0, 'reasoning_tokens': 0, 'rejected_prediction_tokens': 0}, 'prompt_tokens_details': {'audio_tokens': 0, 'cached_tokens': 0}}, 'model_name': 'gpt-4.1-2025-04-14', 'system_fingerprint': None, 'id': 'chatcmpl-BtBTB1zkcfZRCZhCTYxo2ooHPbFiS', 'service_tier': 'default', 'finish_reason': 'stop', 'logprobs': None}, name='filter_agent', id='run--3385c3c5-5f0f-4bd8-8122-c8d504c6e021-0', usage_metadata={'input_tokens': 1011, 'output_tokens': 57, 'total_tokens': 1068, 'input_token_details': {'audio': 0, 'cache_read': 0}, 'output_token_details': {'audio': 0, 'reasoning': 0}})]\n",
      "##agent_name supervisor_agent\n",
      "##messages [HumanMessage(content='Give me all the matched trades for last week.', additional_kwargs={}, response_metadata={}, id='68dd4d87-da8f-4530-9857-1b5f6a5bf9f2'), AIMessage(content='', additional_kwargs={'tool_calls': [{'id': 'call_GpIeIQCiLJybbdiSuqX9kyH4', 'function': {'arguments': '{}', 'name': 'transfer_to_filter_agent'}, 'type': 'function'}], 'refusal': None}, response_metadata={'token_usage': {'completion_tokens': 12, 'prompt_tokens': 808, 'total_tokens': 820, 'completion_tokens_details': {'accepted_prediction_tokens': 0, 'audio_tokens': 0, 'reasoning_tokens': 0, 'rejected_prediction_tokens': 0}, 'prompt_tokens_details': {'audio_tokens': 0, 'cached_tokens': 0}}, 'model_name': 'gpt-4.1-2025-04-14', 'system_fingerprint': None, 'id': 'chatcmpl-BtBT4TiSh72iKw6gdC5ZrVsIjapMW', 'service_tier': 'default', 'finish_reason': 'tool_calls', 'logprobs': None}, name='supervisor_agent', id='run--967ec667-6e99-403e-9fc2-97978b695c17-0', tool_calls=[{'name': 'transfer_to_filter_agent', 'args': {}, 'id': 'call_GpIeIQCiLJybbdiSuqX9kyH4', 'type': 'tool_call'}], usage_metadata={'input_tokens': 808, 'output_tokens': 12, 'total_tokens': 820, 'input_token_details': {'audio': 0, 'cache_read': 0}, 'output_token_details': {'audio': 0, 'reasoning': 0}}), ToolMessage(content='Successfully transferred to filter_agent', name='transfer_to_filter_agent', id='8d821a3f-694e-47e5-8354-6a1dd74dce6c', tool_call_id='call_GpIeIQCiLJybbdiSuqX9kyH4'), AIMessage(content='', additional_kwargs={'tool_calls': [{'id': 'call_hviLpNpHe7bkjAJxARXkpbJ8', 'function': {'arguments': '{\"start_date\":\"2025-07-07\",\"end_date\":\"2025-07-13\",\"matching_status\":\"Matched\"}', 'name': 'filter_trades'}, 'type': 'function'}], 'refusal': None}, response_metadata={'token_usage': {'completion_tokens': 36, 'prompt_tokens': 908, 'total_tokens': 944, 'completion_tokens_details': {'accepted_prediction_tokens': 0, 'audio_tokens': 0, 'reasoning_tokens': 0, 'rejected_prediction_tokens': 0}, 'prompt_tokens_details': {'audio_tokens': 0, 'cached_tokens': 0}}, 'model_name': 'gpt-4.1-2025-04-14', 'system_fingerprint': None, 'id': 'chatcmpl-BtBTArlNSmokpXrluqm1LbrN5T6Pb', 'service_tier': 'default', 'finish_reason': 'tool_calls', 'logprobs': None}, name='filter_agent', id='run--d8f5eeed-931a-4b69-b146-47a8694506b5-0', tool_calls=[{'name': 'filter_trades', 'args': {'start_date': '2025-07-07', 'end_date': '2025-07-13', 'matching_status': 'Matched'}, 'id': 'call_hviLpNpHe7bkjAJxARXkpbJ8', 'type': 'tool_call'}], usage_metadata={'input_tokens': 908, 'output_tokens': 36, 'total_tokens': 944, 'input_token_details': {'audio': 0, 'cache_read': 0}, 'output_token_details': {'audio': 0, 'reasoning': 0}}), ToolMessage(content=\"result=[TradesSchema(id='T026', party='VoyagerTrust', counter_party='CometCapital', trade_date='2025-07-10', matching_status='Matched', instrument='Equity', notional_amount=260000.0, currency='USD')]\", name='filter_trades', id='d4272ef9-842b-4e5d-ba67-5e8d2d237db5', tool_call_id='call_hviLpNpHe7bkjAJxARXkpbJ8'), AIMessage(content='{\"result\":[{\"id\":\"T026\",\"party\":\"VoyagerTrust\",\"counter_party\":\"CometCapital\",\"trade_date\":\"2025-07-10\",\"matching_status\":\"Matched\",\"instrument\":\"Equity\",\"notional_amount\":260000.0,\"currency\":\"USD\"}]}', additional_kwargs={'refusal': None}, response_metadata={'token_usage': {'completion_tokens': 57, 'prompt_tokens': 1011, 'total_tokens': 1068, 'completion_tokens_details': {'accepted_prediction_tokens': 0, 'audio_tokens': 0, 'reasoning_tokens': 0, 'rejected_prediction_tokens': 0}, 'prompt_tokens_details': {'audio_tokens': 0, 'cached_tokens': 0}}, 'model_name': 'gpt-4.1-2025-04-14', 'system_fingerprint': None, 'id': 'chatcmpl-BtBTB1zkcfZRCZhCTYxo2ooHPbFiS', 'service_tier': 'default', 'finish_reason': 'stop', 'logprobs': None}, name='filter_agent', id='run--3385c3c5-5f0f-4bd8-8122-c8d504c6e021-0', usage_metadata={'input_tokens': 1011, 'output_tokens': 57, 'total_tokens': 1068, 'input_token_details': {'audio': 0, 'cache_read': 0}, 'output_token_details': {'audio': 0, 'reasoning': 0}}), AIMessage(content='{\"result\":[{\"id\":\"T026\",\"party\":\"VoyagerTrust\",\"counter_party\":\"CometCapital\",\"trade_date\":\"2025-07-10\",\"matching_status\":\"Matched\",\"instrument\":\"Equity\",\"notional_amount\":260000.0,\"currency\":\"USD\"}]}', additional_kwargs={'refusal': None}, response_metadata={'token_usage': {'completion_tokens': 57, 'prompt_tokens': 1005, 'total_tokens': 1062, 'completion_tokens_details': {'accepted_prediction_tokens': 0, 'audio_tokens': 0, 'reasoning_tokens': 0, 'rejected_prediction_tokens': 0}, 'prompt_tokens_details': {'audio_tokens': 0, 'cached_tokens': 0}}, 'model_name': 'gpt-4.1-2025-04-14', 'system_fingerprint': None, 'id': 'chatcmpl-BtBTCAn1bEtOEUaDx6RoTYPn1FDMv', 'service_tier': 'default', 'finish_reason': 'stop', 'logprobs': None}, name='supervisor_agent', id='run--91738793-e037-42eb-8f85-00fde7bb4a0a-0', usage_metadata={'input_tokens': 1005, 'output_tokens': 57, 'total_tokens': 1062, 'input_token_details': {'audio': 0, 'cache_read': 0}, 'output_token_details': {'audio': 0, 'reasoning': 0}})]\n"
     ]
    }
   ],
   "source": [
    "# Stream and extract the final assistant response\n",
    "for output in app.stream({\n",
    "    'messages': [{'role': 'user', 'content': 'Give me all the matched trades for last week.'}]\n",
    "}):\n",
    "    for agent_name, agent_payload in output.items():\n",
    "        print('##agent_name', agent_name)\n",
    "        if isinstance(agent_payload, dict) and \"messages\" in agent_payload:\n",
    "                messages = agent_payload[\"messages\"]\n",
    "                print('##messages', messages)\n",
    "                # Collect all message types derived from BaseMessage that have content\n",
    "                valid_msgs = [\n",
    "                    msg for msg in messages if isinstance(msg, BaseMessage) and getattr(msg, \"content\", None)\n",
    "                ]\n",
    "                if valid_msgs:\n",
    "                    last_message = valid_msgs[-1].content"
   ]
  },
  {
   "cell_type": "code",
   "execution_count": 32,
   "id": "23ea6eda",
   "metadata": {},
   "outputs": [
    {
     "name": "stdout",
     "output_type": "stream",
     "text": [
      "{\"result\":[{\"id\":\"T026\",\"party\":\"VoyagerTrust\",\"counter_party\":\"CometCapital\",\"trade_date\":\"2025-07-10\",\"matching_status\":\"Matched\",\"instrument\":\"Equity\",\"notional_amount\":260000.0,\"currency\":\"USD\"}]}\n",
      "<class 'str'>\n"
     ]
    }
   ],
   "source": [
    "print(last_message)\n",
    "print(type(last_message))"
   ]
  },
  {
   "cell_type": "code",
   "execution_count": 22,
   "id": "3e83c3cc",
   "metadata": {},
   "outputs": [
    {
     "name": "stdout",
     "output_type": "stream",
     "text": [
      "##output {'supervisor_agent': {'messages': [HumanMessage(content='Give me all the matched trades for last week.', additional_kwargs={}, response_metadata={}, id='7a7ece01-0cd1-4515-bad5-bc15bd56ffec'), AIMessage(content='', additional_kwargs={'tool_calls': [{'id': 'call_6QcXLOIpVAZyN6ocMeTylsed', 'function': {'arguments': '{}', 'name': 'transfer_to_filter_agent'}, 'type': 'function'}], 'refusal': None}, response_metadata={'token_usage': {'completion_tokens': 12, 'prompt_tokens': 808, 'total_tokens': 820, 'completion_tokens_details': {'accepted_prediction_tokens': 0, 'audio_tokens': 0, 'reasoning_tokens': 0, 'rejected_prediction_tokens': 0}, 'prompt_tokens_details': {'audio_tokens': 0, 'cached_tokens': 0}}, 'model_name': 'gpt-4.1-2025-04-14', 'system_fingerprint': None, 'id': 'chatcmpl-BtBGsaW7nHUdBN46qxGBYSx3vs2Hp', 'service_tier': 'default', 'finish_reason': 'tool_calls', 'logprobs': None}, name='supervisor_agent', id='run--04a13460-9b79-4ed5-a465-7b50cffbaffb-0', tool_calls=[{'name': 'transfer_to_filter_agent', 'args': {}, 'id': 'call_6QcXLOIpVAZyN6ocMeTylsed', 'type': 'tool_call'}], usage_metadata={'input_tokens': 808, 'output_tokens': 12, 'total_tokens': 820, 'input_token_details': {'audio': 0, 'cache_read': 0}, 'output_token_details': {'audio': 0, 'reasoning': 0}}), {'role': 'tool', 'content': 'Successfully transferred to filter_agent', 'tool_call_id': 'call_6QcXLOIpVAZyN6ocMeTylsed', 'name': 'transfer_to_filter_agent'}]}}\n",
      "************************************************************************************************************\n",
      "##output {'filter_agent': {'messages': [HumanMessage(content='Give me all the matched trades for last week.', additional_kwargs={}, response_metadata={}, id='7a7ece01-0cd1-4515-bad5-bc15bd56ffec'), AIMessage(content='', additional_kwargs={'tool_calls': [{'id': 'call_6QcXLOIpVAZyN6ocMeTylsed', 'function': {'arguments': '{}', 'name': 'transfer_to_filter_agent'}, 'type': 'function'}], 'refusal': None}, response_metadata={'token_usage': {'completion_tokens': 12, 'prompt_tokens': 808, 'total_tokens': 820, 'completion_tokens_details': {'accepted_prediction_tokens': 0, 'audio_tokens': 0, 'reasoning_tokens': 0, 'rejected_prediction_tokens': 0}, 'prompt_tokens_details': {'audio_tokens': 0, 'cached_tokens': 0}}, 'model_name': 'gpt-4.1-2025-04-14', 'system_fingerprint': None, 'id': 'chatcmpl-BtBGsaW7nHUdBN46qxGBYSx3vs2Hp', 'service_tier': 'default', 'finish_reason': 'tool_calls', 'logprobs': None}, name='supervisor_agent', id='run--04a13460-9b79-4ed5-a465-7b50cffbaffb-0', tool_calls=[{'name': 'transfer_to_filter_agent', 'args': {}, 'id': 'call_6QcXLOIpVAZyN6ocMeTylsed', 'type': 'tool_call'}], usage_metadata={'input_tokens': 808, 'output_tokens': 12, 'total_tokens': 820, 'input_token_details': {'audio': 0, 'cache_read': 0}, 'output_token_details': {'audio': 0, 'reasoning': 0}}), ToolMessage(content='Successfully transferred to filter_agent', name='transfer_to_filter_agent', id='6324e320-461f-4c17-a131-4f8dd37bcf3b', tool_call_id='call_6QcXLOIpVAZyN6ocMeTylsed'), AIMessage(content='', additional_kwargs={'tool_calls': [{'id': 'call_4xij6WfV2vT8cWueDHfJIkf1', 'function': {'arguments': '{\"start_date\":\"2025-07-07\",\"end_date\":\"2025-07-13\",\"matching_status\":\"Matched\"}', 'name': 'filter_trades'}, 'type': 'function'}], 'refusal': None}, response_metadata={'token_usage': {'completion_tokens': 36, 'prompt_tokens': 908, 'total_tokens': 944, 'completion_tokens_details': {'accepted_prediction_tokens': 0, 'audio_tokens': 0, 'reasoning_tokens': 0, 'rejected_prediction_tokens': 0}, 'prompt_tokens_details': {'audio_tokens': 0, 'cached_tokens': 0}}, 'model_name': 'gpt-4.1-2025-04-14', 'system_fingerprint': None, 'id': 'chatcmpl-BtBGtiVsIYdbmPkGr0dwSn9dztQXg', 'service_tier': 'default', 'finish_reason': 'tool_calls', 'logprobs': None}, name='filter_agent', id='run--84eaf9ab-eb48-4549-8dc3-73ef0d22659d-0', tool_calls=[{'name': 'filter_trades', 'args': {'start_date': '2025-07-07', 'end_date': '2025-07-13', 'matching_status': 'Matched'}, 'id': 'call_4xij6WfV2vT8cWueDHfJIkf1', 'type': 'tool_call'}], usage_metadata={'input_tokens': 908, 'output_tokens': 36, 'total_tokens': 944, 'input_token_details': {'audio': 0, 'cache_read': 0}, 'output_token_details': {'audio': 0, 'reasoning': 0}}), ToolMessage(content=\"result=[TradesSchema(id='T026', party='VoyagerTrust', counter_party='CometCapital', trade_date='2025-07-10', matching_status='Matched', instrument='Equity', notional_amount=260000.0, currency='USD')]\", name='filter_trades', id='beaf7c55-7c8e-4966-acca-1a9ccae13aa2', tool_call_id='call_4xij6WfV2vT8cWueDHfJIkf1'), AIMessage(content='{\"result\":[{\"id\":\"T026\",\"party\":\"VoyagerTrust\",\"counter_party\":\"CometCapital\",\"trade_date\":\"2025-07-10\",\"matching_status\":\"Matched\",\"instrument\":\"Equity\",\"notional_amount\":260000.0,\"currency\":\"USD\"}]}', additional_kwargs={'refusal': None}, response_metadata={'token_usage': {'completion_tokens': 57, 'prompt_tokens': 1011, 'total_tokens': 1068, 'completion_tokens_details': {'accepted_prediction_tokens': 0, 'audio_tokens': 0, 'reasoning_tokens': 0, 'rejected_prediction_tokens': 0}, 'prompt_tokens_details': {'audio_tokens': 0, 'cached_tokens': 0}}, 'model_name': 'gpt-4.1-2025-04-14', 'system_fingerprint': None, 'id': 'chatcmpl-BtBGu09sgZ5MvYoimqf8sqrltOL84', 'service_tier': 'default', 'finish_reason': 'stop', 'logprobs': None}, name='filter_agent', id='run--2728eae1-006f-453c-8965-00b663a84625-0', usage_metadata={'input_tokens': 1011, 'output_tokens': 57, 'total_tokens': 1068, 'input_token_details': {'audio': 0, 'cache_read': 0}, 'output_token_details': {'audio': 0, 'reasoning': 0}})]}}\n",
      "************************************************************************************************************\n",
      "##output {'supervisor_agent': {'messages': [HumanMessage(content='Give me all the matched trades for last week.', additional_kwargs={}, response_metadata={}, id='7a7ece01-0cd1-4515-bad5-bc15bd56ffec'), AIMessage(content='', additional_kwargs={'tool_calls': [{'id': 'call_6QcXLOIpVAZyN6ocMeTylsed', 'function': {'arguments': '{}', 'name': 'transfer_to_filter_agent'}, 'type': 'function'}], 'refusal': None}, response_metadata={'token_usage': {'completion_tokens': 12, 'prompt_tokens': 808, 'total_tokens': 820, 'completion_tokens_details': {'accepted_prediction_tokens': 0, 'audio_tokens': 0, 'reasoning_tokens': 0, 'rejected_prediction_tokens': 0}, 'prompt_tokens_details': {'audio_tokens': 0, 'cached_tokens': 0}}, 'model_name': 'gpt-4.1-2025-04-14', 'system_fingerprint': None, 'id': 'chatcmpl-BtBGsaW7nHUdBN46qxGBYSx3vs2Hp', 'service_tier': 'default', 'finish_reason': 'tool_calls', 'logprobs': None}, name='supervisor_agent', id='run--04a13460-9b79-4ed5-a465-7b50cffbaffb-0', tool_calls=[{'name': 'transfer_to_filter_agent', 'args': {}, 'id': 'call_6QcXLOIpVAZyN6ocMeTylsed', 'type': 'tool_call'}], usage_metadata={'input_tokens': 808, 'output_tokens': 12, 'total_tokens': 820, 'input_token_details': {'audio': 0, 'cache_read': 0}, 'output_token_details': {'audio': 0, 'reasoning': 0}}), ToolMessage(content='Successfully transferred to filter_agent', name='transfer_to_filter_agent', id='6324e320-461f-4c17-a131-4f8dd37bcf3b', tool_call_id='call_6QcXLOIpVAZyN6ocMeTylsed'), AIMessage(content='', additional_kwargs={'tool_calls': [{'id': 'call_4xij6WfV2vT8cWueDHfJIkf1', 'function': {'arguments': '{\"start_date\":\"2025-07-07\",\"end_date\":\"2025-07-13\",\"matching_status\":\"Matched\"}', 'name': 'filter_trades'}, 'type': 'function'}], 'refusal': None}, response_metadata={'token_usage': {'completion_tokens': 36, 'prompt_tokens': 908, 'total_tokens': 944, 'completion_tokens_details': {'accepted_prediction_tokens': 0, 'audio_tokens': 0, 'reasoning_tokens': 0, 'rejected_prediction_tokens': 0}, 'prompt_tokens_details': {'audio_tokens': 0, 'cached_tokens': 0}}, 'model_name': 'gpt-4.1-2025-04-14', 'system_fingerprint': None, 'id': 'chatcmpl-BtBGtiVsIYdbmPkGr0dwSn9dztQXg', 'service_tier': 'default', 'finish_reason': 'tool_calls', 'logprobs': None}, name='filter_agent', id='run--84eaf9ab-eb48-4549-8dc3-73ef0d22659d-0', tool_calls=[{'name': 'filter_trades', 'args': {'start_date': '2025-07-07', 'end_date': '2025-07-13', 'matching_status': 'Matched'}, 'id': 'call_4xij6WfV2vT8cWueDHfJIkf1', 'type': 'tool_call'}], usage_metadata={'input_tokens': 908, 'output_tokens': 36, 'total_tokens': 944, 'input_token_details': {'audio': 0, 'cache_read': 0}, 'output_token_details': {'audio': 0, 'reasoning': 0}}), ToolMessage(content=\"result=[TradesSchema(id='T026', party='VoyagerTrust', counter_party='CometCapital', trade_date='2025-07-10', matching_status='Matched', instrument='Equity', notional_amount=260000.0, currency='USD')]\", name='filter_trades', id='beaf7c55-7c8e-4966-acca-1a9ccae13aa2', tool_call_id='call_4xij6WfV2vT8cWueDHfJIkf1'), AIMessage(content='{\"result\":[{\"id\":\"T026\",\"party\":\"VoyagerTrust\",\"counter_party\":\"CometCapital\",\"trade_date\":\"2025-07-10\",\"matching_status\":\"Matched\",\"instrument\":\"Equity\",\"notional_amount\":260000.0,\"currency\":\"USD\"}]}', additional_kwargs={'refusal': None}, response_metadata={'token_usage': {'completion_tokens': 57, 'prompt_tokens': 1011, 'total_tokens': 1068, 'completion_tokens_details': {'accepted_prediction_tokens': 0, 'audio_tokens': 0, 'reasoning_tokens': 0, 'rejected_prediction_tokens': 0}, 'prompt_tokens_details': {'audio_tokens': 0, 'cached_tokens': 0}}, 'model_name': 'gpt-4.1-2025-04-14', 'system_fingerprint': None, 'id': 'chatcmpl-BtBGu09sgZ5MvYoimqf8sqrltOL84', 'service_tier': 'default', 'finish_reason': 'stop', 'logprobs': None}, name='filter_agent', id='run--2728eae1-006f-453c-8965-00b663a84625-0', usage_metadata={'input_tokens': 1011, 'output_tokens': 57, 'total_tokens': 1068, 'input_token_details': {'audio': 0, 'cache_read': 0}, 'output_token_details': {'audio': 0, 'reasoning': 0}}), AIMessage(content='{\"result\":[{\"id\":\"T026\",\"party\":\"VoyagerTrust\",\"counter_party\":\"CometCapital\",\"trade_date\":\"2025-07-10\",\"matching_status\":\"Matched\",\"instrument\":\"Equity\",\"notional_amount\":260000.0,\"currency\":\"USD\"}]}', additional_kwargs={'refusal': None}, response_metadata={'token_usage': {'completion_tokens': 57, 'prompt_tokens': 1005, 'total_tokens': 1062, 'completion_tokens_details': {'accepted_prediction_tokens': 0, 'audio_tokens': 0, 'reasoning_tokens': 0, 'rejected_prediction_tokens': 0}, 'prompt_tokens_details': {'audio_tokens': 0, 'cached_tokens': 0}}, 'model_name': 'gpt-4.1-2025-04-14', 'system_fingerprint': None, 'id': 'chatcmpl-BtBGxapJgNQ00tKGedidto2w3KHFg', 'service_tier': 'default', 'finish_reason': 'stop', 'logprobs': None}, name='supervisor_agent', id='run--0554143f-8d34-4539-a57f-6d8ff9535e6e-0', usage_metadata={'input_tokens': 1005, 'output_tokens': 57, 'total_tokens': 1062, 'input_token_details': {'audio': 0, 'cache_read': 0}, 'output_token_details': {'audio': 0, 'reasoning': 0}})]}}\n",
      "************************************************************************************************************\n"
     ]
    }
   ],
   "source": [
    "for output in app.stream({\n",
    "    'messages': [{'role': 'user', 'content': 'Give me all the matched trades for last week.'}]\n",
    "}):\n",
    "    print('##output', output)\n",
    "    print(\"***************************\"*4)"
   ]
  },
  {
   "cell_type": "markdown",
   "id": "caa21fd5",
   "metadata": {},
   "source": [
    "##output {'supervisor_agent': {'messages': [HumanMessage(content='Give me all the matched trades for last week.', additional_kwargs={}, response_metadata={}, id='7a7ece01-0cd1-4515-bad5-bc15bd56ffec'), AIMessage(content='', additional_kwargs={'tool_calls': [{'id': 'call_6QcXLOIpVAZyN6ocMeTylsed', 'function': {'arguments': '{}', 'name': 'transfer_to_filter_agent'}, 'type': 'function'}], 'refusal': None}, response_metadata={'token_usage': {'completion_tokens': 12, 'prompt_tokens': 808, 'total_tokens': 820, 'completion_tokens_details': {'accepted_prediction_tokens': 0, 'audio_tokens': 0, 'reasoning_tokens': 0, 'rejected_prediction_tokens': 0}, 'prompt_tokens_details': {'audio_tokens': 0, 'cached_tokens': 0}}, 'model_name': 'gpt-4.1-2025-04-14', 'system_fingerprint': None, 'id': 'chatcmpl-BtBGsaW7nHUdBN46qxGBYSx3vs2Hp', 'service_tier': 'default', 'finish_reason': 'tool_calls', 'logprobs': None}, name='supervisor_agent', id='run--04a13460-9b79-4ed5-a465-7b50cffbaffb-0', tool_calls=[{'name': 'transfer_to_filter_agent', 'args': {}, 'id': 'call_6QcXLOIpVAZyN6ocMeTylsed', 'type': 'tool_call'}], usage_metadata={'input_tokens': 808, 'output_tokens': 12, 'total_tokens': 820, 'input_token_details': {'audio': 0, 'cache_read': 0}, 'output_token_details': {'audio': 0, 'reasoning': 0}}), {'role': 'tool', 'content': 'Successfully transferred to filter_agent', 'tool_call_id': 'call_6QcXLOIpVAZyN6ocMeTylsed', 'name': 'transfer_to_filter_agent'}]}}\n",
    "************************************************************************************************************\n",
    "##output {'filter_agent': {'messages': [HumanMessage(content='Give me all the matched trades for last week.', additional_kwargs={}, response_metadata={}, id='7a7ece01-0cd1-4515-bad5-bc15bd56ffec'), AIMessage(content='', additional_kwargs={'tool_calls': [{'id': 'call_6QcXLOIpVAZyN6ocMeTylsed', 'function': {'arguments': '{}', 'name': 'transfer_to_filter_agent'}, 'type': 'function'}], 'refusal': None}, response_metadata={'token_usage': {'completion_tokens': 12, 'prompt_tokens': 808, 'total_tokens': 820, 'completion_tokens_details': {'accepted_prediction_tokens': 0, 'audio_tokens': 0, 'reasoning_tokens': 0, 'rejected_prediction_tokens': 0}, 'prompt_tokens_details': {'audio_tokens': 0, 'cached_tokens': 0}}, 'model_name': 'gpt-4.1-2025-04-14', 'system_fingerprint': None, 'id': 'chatcmpl-BtBGsaW7nHUdBN46qxGBYSx3vs2Hp', 'service_tier': 'default', 'finish_reason': 'tool_calls', 'logprobs': None}, name='supervisor_agent', id='run--04a13460-9b79-4ed5-a465-7b50cffbaffb-0', tool_calls=[{'name': 'transfer_to_filter_agent', 'args': {}, 'id': 'call_6QcXLOIpVAZyN6ocMeTylsed', 'type': 'tool_call'}], usage_metadata={'input_tokens': 808, 'output_tokens': 12, 'total_tokens': 820, 'input_token_details': {'audio': 0, 'cache_read': 0}, 'output_token_details': {'audio': 0, 'reasoning': 0}}), ToolMessage(content='Successfully transferred to filter_agent', name='transfer_to_filter_agent', id='6324e320-461f-4c17-a131-4f8dd37bcf3b', tool_call_id='call_6QcXLOIpVAZyN6ocMeTylsed'), AIMessage(content='', additional_kwargs={'tool_calls': [{'id': 'call_4xij6WfV2vT8cWueDHfJIkf1', 'function': {'arguments': '{\"start_date\":\"2025-07-07\",\"end_date\":\"2025-07-13\",\"matching_status\":\"Matched\"}', 'name': 'filter_trades'}, 'type': 'function'}], 'refusal': None}, response_metadata={'token_usage': {'completion_tokens': 36, 'prompt_tokens': 908, 'total_tokens': 944, 'completion_tokens_details': {'accepted_prediction_tokens': 0, 'audio_tokens': 0, 'reasoning_tokens': 0, 'rejected_prediction_tokens': 0}, 'prompt_tokens_details': {'audio_tokens': 0, 'cached_tokens': 0}}, 'model_name': 'gpt-4.1-2025-04-14', 'system_fingerprint': None, 'id': 'chatcmpl-BtBGtiVsIYdbmPkGr0dwSn9dztQXg', 'service_tier': 'default', 'finish_reason': 'tool_calls', 'logprobs': None}, name='filter_agent', id='run--84eaf9ab-eb48-4549-8dc3-73ef0d22659d-0', tool_calls=[{'name': 'filter_trades', 'args': {'start_date': '2025-07-07', 'end_date': '2025-07-13', 'matching_status': 'Matched'}, 'id': 'call_4xij6WfV2vT8cWueDHfJIkf1', 'type': 'tool_call'}], usage_metadata={'input_tokens': 908, 'output_tokens': 36, 'total_tokens': 944, 'input_token_details': {'audio': 0, 'cache_read': 0}, 'output_token_details': {'audio': 0, 'reasoning': 0}}), ToolMessage(content=\"result=[TradesSchema(id='T026', party='VoyagerTrust', counter_party='CometCapital', trade_date='2025-07-10', matching_status='Matched', instrument='Equity', notional_amount=260000.0, currency='USD')]\", name='filter_trades', id='beaf7c55-7c8e-4966-acca-1a9ccae13aa2', tool_call_id='call_4xij6WfV2vT8cWueDHfJIkf1'), AIMessage(content='{\"result\":[{\"id\":\"T026\",\"party\":\"VoyagerTrust\",\"counter_party\":\"CometCapital\",\"trade_date\":\"2025-07-10\",\"matching_status\":\"Matched\",\"instrument\":\"Equity\",\"notional_amount\":260000.0,\"currency\":\"USD\"}]}', additional_kwargs={'refusal': None}, response_metadata={'token_usage': {'completion_tokens': 57, 'prompt_tokens': 1011, 'total_tokens': 1068, 'completion_tokens_details': {'accepted_prediction_tokens': 0, 'audio_tokens': 0, 'reasoning_tokens': 0, 'rejected_prediction_tokens': 0}, 'prompt_tokens_details': {'audio_tokens': 0, 'cached_tokens': 0}}, 'model_name': 'gpt-4.1-2025-04-14', 'system_fingerprint': None, 'id': 'chatcmpl-BtBGu09sgZ5MvYoimqf8sqrltOL84', 'service_tier': 'default', 'finish_reason': 'stop', 'logprobs': None}, name='filter_agent', id='run--2728eae1-006f-453c-8965-00b663a84625-0', usage_metadata={'input_tokens': 1011, 'output_tokens': 57, 'total_tokens': 1068, 'input_token_details': {'audio': 0, 'cache_read': 0}, 'output_token_details': {'audio': 0, 'reasoning': 0}})]}}\n",
    "************************************************************************************************************\n",
    "##output {'supervisor_agent': \n",
    "{'messages': [\n",
    "    HumanMessage(content='Give me all the matched trades for last week.', additional_kwargs={}, response_metadata={}, id='7a7ece01-0cd1-4515-bad5-bc15bd56ffec'), \n",
    "    \n",
    "    AIMessage(content='', additional_kwargs={'tool_calls': [{'id': 'call_6QcXLOIpVAZyN6ocMeTylsed', 'function': {'arguments': '{}', 'name': 'transfer_to_filter_agent'}, 'type': 'function'}], 'refusal': None}, response_metadata={'token_usage': {'completion_tokens': 12, 'prompt_tokens': 808, 'total_tokens': 820, 'completion_tokens_details': {'accepted_prediction_tokens': 0, 'audio_tokens': 0, 'reasoning_tokens': 0, 'rejected_prediction_tokens': 0}, 'prompt_tokens_details': {'audio_tokens': 0, 'cached_tokens': 0}}, 'model_name': 'gpt-4.1-2025-04-14', 'system_fingerprint': None, 'id': 'chatcmpl-BtBGsaW7nHUdBN46qxGBYSx3vs2Hp', 'service_tier': 'default', 'finish_reason': 'tool_calls', 'logprobs': None}, name='supervisor_agent', id='run--04a13460-9b79-4ed5-a465-7b50cffbaffb-0', tool_calls=[{'name': 'transfer_to_filter_agent', 'args': {}, 'id': 'call_6QcXLOIpVAZyN6ocMeTylsed', 'type': 'tool_call'}], usage_metadata={'input_tokens': 808, 'output_tokens': 12, 'total_tokens': 820, 'input_token_details': {'audio': 0, 'cache_read': 0}, 'output_token_details': {'audio': 0, 'reasoning': 0}}), ToolMessage(content='Successfully transferred to filter_agent', name='transfer_to_filter_agent', id='6324e320-461f-4c17-a131-4f8dd37bcf3b', tool_call_id='call_6QcXLOIpVAZyN6ocMeTylsed'), AIMessage(content='', additional_kwargs={'tool_calls': [{'id': 'call_4xij6WfV2vT8cWueDHfJIkf1', 'function': {'arguments': '{\"start_date\":\"2025-07-07\",\"end_date\":\"2025-07-13\",\"matching_status\":\"Matched\"}', 'name': 'filter_trades'}, 'type': 'function'}], 'refusal': None}, response_metadata={'token_usage': {'completion_tokens': 36, 'prompt_tokens': 908, 'total_tokens': 944, 'completion_tokens_details': {'accepted_prediction_tokens': 0, 'audio_tokens': 0, 'reasoning_tokens': 0, 'rejected_prediction_tokens': 0}, 'prompt_tokens_details': {'audio_tokens': 0, 'cached_tokens': 0}}, 'model_name': 'gpt-4.1-2025-04-14', 'system_fingerprint': None, 'id': 'chatcmpl-BtBGtiVsIYdbmPkGr0dwSn9dztQXg', 'service_tier': 'default', 'finish_reason': 'tool_calls', 'logprobs': None}, name='filter_agent', id='run--84eaf9ab-eb48-4549-8dc3-73ef0d22659d-0', tool_calls=[{'name': 'filter_trades', 'args': {'start_date': '2025-07-07', 'end_date': '2025-07-13', 'matching_status': 'Matched'}, 'id': 'call_4xij6WfV2vT8cWueDHfJIkf1', 'type': 'tool_call'}], usage_metadata={'input_tokens': 908, 'output_tokens': 36, 'total_tokens': 944, 'input_token_details': {'audio': 0, 'cache_read': 0}, 'output_token_details': {'audio': 0, 'reasoning': 0}}),\n",
    "\n",
    "ToolMessage(content=\"result=[TradesSchema(id='T026', party='VoyagerTrust', counter_party='CometCapital', trade_date='2025-07-10', matching_status='Matched', instrument='Equity', notional_amount=260000.0, currency='USD')]\", name='filter_trades', id='beaf7c55-7c8e-4966-acca-1a9ccae13aa2', tool_call_id='call_4xij6WfV2vT8cWueDHfJIkf1'),\n",
    "\n",
    "AIMessage(content='{\"result\":[{\"id\":\"T026\",\"party\":\"VoyagerTrust\",\"counter_party\":\"CometCapital\",\"trade_date\":\"2025-07-10\",\"matching_status\":\"Matched\",\"instrument\":\"Equity\",\"notional_amount\":260000.0,\"currency\":\"USD\"}]}', additional_kwargs={'refusal': None}, response_metadata={'token_usage': {'completion_tokens': 57, 'prompt_tokens': 1011, 'total_tokens': 1068, 'completion_tokens_details': {'accepted_prediction_tokens': 0, 'audio_tokens': 0, 'reasoning_tokens': 0, 'rejected_prediction_tokens': 0}, 'prompt_tokens_details': {'audio_tokens': 0, 'cached_tokens': 0}}, 'model_name': 'gpt-4.1-2025-04-14', 'system_fingerprint': None, 'id': 'chatcmpl-BtBGu09sgZ5MvYoimqf8sqrltOL84', 'service_tier': 'default', 'finish_reason': 'stop', 'logprobs': None}, name='filter_agent', id='run--2728eae1-006f-453c-8965-00b663a84625-0', usage_metadata={'input_tokens': 1011, 'output_tokens': 57, 'total_tokens': 1068, 'input_token_details': {'audio': 0, 'cache_read': 0}, 'output_token_details': {'audio': 0, 'reasoning': 0}}),\n",
    "\n",
    "AIMessage(content='{\"result\":[{\"id\":\"T026\",\"party\":\"VoyagerTrust\",\"counter_party\":\"CometCapital\",\"trade_date\":\"2025-07-10\",\"matching_status\":\"Matched\",\"instrument\":\"Equity\",\"notional_amount\":260000.0,\"currency\":\"USD\"}]}', additional_kwargs={'refusal': None}, response_metadata={'token_usage': {'completion_tokens': 57, 'prompt_tokens': 1005, 'total_tokens': 1062, 'completion_tokens_details': {'accepted_prediction_tokens': 0, 'audio_tokens': 0, 'reasoning_tokens': 0, 'rejected_prediction_tokens': 0}, 'prompt_tokens_details': {'audio_tokens': 0, 'cached_tokens': 0}}, 'model_name': 'gpt-4.1-2025-04-14', 'system_fingerprint': None, 'id': 'chatcmpl-BtBGxapJgNQ00tKGedidto2w3KHFg', 'service_tier': 'default', 'finish_reason': 'stop', 'logprobs': None}, name='supervisor_agent', id='run--0554143f-8d34-4539-a57f-6d8ff9535e6e-0', usage_metadata={'input_tokens': 1005, 'output_tokens': 57, 'total_tokens': 1062, 'input_token_details': {'audio': 0, 'cache_read': 0}, 'output_token_details': {'audio': 0, 'reasoning': 0}})]}}\n",
    "************************************************************************************************************"
   ]
  }
 ],
 "metadata": {
  "kernelspec": {
   "display_name": "Python 3",
   "language": "python",
   "name": "python3"
  },
  "language_info": {
   "codemirror_mode": {
    "name": "ipython",
    "version": 3
   },
   "file_extension": ".py",
   "mimetype": "text/x-python",
   "name": "python",
   "nbconvert_exporter": "python",
   "pygments_lexer": "ipython3",
   "version": "3.12.11"
  }
 },
 "nbformat": 4,
 "nbformat_minor": 5
}
